{
 "cells": [
  {
   "cell_type": "code",
   "execution_count": 1,
   "metadata": {},
   "outputs": [],
   "source": [
    "#! /usr/bin/env python\n",
    "from geopandas import GeoDataFrame\n",
    "import pandas as pd\n",
    "import matplotlib.pyplot as plt\n",
    "from vayu import interpolPlot"
   ]
  },
  {
   "cell_type": "code",
   "execution_count": 2,
   "metadata": {},
   "outputs": [],
   "source": [
    "shapeFile = \"../re/tl_2017_us_state.shp\"\n",
    "long = \"Longitude\"\n",
    "lat = \"Latitude\"\n",
    "pollutant = \"Arithmetic Mean\"\n",
    "df = pd.read_csv(\"../re/daily_44201_2018.csv\")\n",
    "shape_df = GeoDataFrame.from_file(shapeFile)\n",
    "shape_df.drop(shape_df.index[[34, 35, 36, 40, 41, 49, 31]], inplace=True)"
   ]
  },
  {
   "cell_type": "code",
   "execution_count": null,
   "metadata": {},
   "outputs": [],
   "source": [
    "interpolPlot(df, shape_df, long, lat, pollutant)\n",
    "plt.savefig(\"interpolPlot1.png\")\n",
    "plt.show()"
   ]
  },
  {
   "cell_type": "markdown",
   "metadata": {},
   "source": [
    "Focusing on Califonria."
   ]
  },
  {
   "cell_type": "code",
   "execution_count": null,
   "metadata": {},
   "outputs": [],
   "source": [
    "shape_df = shape_df[13:14]"
   ]
  },
  {
   "cell_type": "markdown",
   "metadata": {},
   "source": [
    "We don't support `LinearSegmentedColormap` pass a `ListedColormap`. We will be demoing below how to convert from former to latter."
   ]
  },
  {
   "cell_type": "code",
   "execution_count": null,
   "metadata": {},
   "outputs": [],
   "source": [
    "interpolPlot(df, shape_df, long, lat, pollutant, cmap='Greens')\n",
    "plt.show()"
   ]
  },
  {
   "cell_type": "code",
   "execution_count": null,
   "metadata": {},
   "outputs": [],
   "source": [
    "# Converting to ListedColormap\n",
    "\n",
    "import numpy as np\n",
    "from matplotlib import cm\n",
    "from matplotlib.colors import ListedColormap, LinearSegmentedColormap\n",
    "\n",
    "N = 258\n",
    "cmap_colors = cm.get_cmap('Greens', N)\n",
    "newcolors = (cmap_colors(np.linspace(0, 1, N))[:, :3]).tolist()\n",
    "listedcmap = ListedColormap(newcolors, name='GreensListed', N=N)"
   ]
  },
  {
   "cell_type": "code",
   "execution_count": null,
   "metadata": {},
   "outputs": [],
   "source": [
    "interpolPlot(df, shape_df, long, lat, pollutant, cmap=listedcmap)\n",
    "plt.savefig(\"interpolPlot2.png\")\n",
    "plt.show()"
   ]
  },
  {
   "cell_type": "code",
   "execution_count": null,
   "metadata": {},
   "outputs": [],
   "source": []
  }
 ],
 "metadata": {
  "kernelspec": {
   "display_name": "Python 3",
   "language": "python",
   "name": "python3"
  },
  "language_info": {
   "codemirror_mode": {
    "name": "ipython",
    "version": 3
   },
   "file_extension": ".py",
   "mimetype": "text/x-python",
   "name": "python",
   "nbconvert_exporter": "python",
   "pygments_lexer": "ipython3",
   "version": "3.6.8"
  }
 },
 "nbformat": 4,
 "nbformat_minor": 2
}
